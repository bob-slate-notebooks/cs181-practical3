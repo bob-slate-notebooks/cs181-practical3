{
 "metadata": {
  "name": "",
  "signature": "sha256:a1d6a9124968dfca04b2498a21e00f20e51f030c5cb530f7b32d46d5d5e26ed5"
 },
 "nbformat": 3,
 "nbformat_minor": 0,
 "worksheets": [
  {
   "cells": [
    {
     "cell_type": "code",
     "collapsed": false,
     "input": [
      "import numpy as np\n",
      "import csv\n",
      "from sklearn import cross_validation\n",
      "\n",
      "# Predict via the median number of plays.\n",
      "\n",
      "train_file = 'train.csv'\n",
      "test_file  = 'test.csv'\n",
      "soln_file  = 'global_median.csv'"
     ],
     "language": "python",
     "metadata": {},
     "outputs": []
    },
    {
     "cell_type": "code",
     "collapsed": false,
     "input": [
      "# Load the training data.\n",
      "train_data = {}\n",
      "with open(train_file, 'r') as train_fh:\n",
      "    train_csv = csv.reader(train_fh, delimiter=',', quotechar='\"')\n",
      "    next(train_csv, None)\n",
      "    for row in train_csv:\n",
      "        user   = row[0]\n",
      "        artist = row[1]\n",
      "        plays  = int(row[2])\n",
      "    \n",
      "        if not user in train_data:\n",
      "            train_data[user] = {}\n",
      "        \n",
      "        train_data[user][artist] = plays"
     ],
     "language": "python",
     "metadata": {},
     "outputs": []
    },
    {
     "cell_type": "code",
     "collapsed": false,
     "input": [
      "X1_train, Y1_test, X1_t, Y1_t = cross_validation.train_test_split(X_train, t_train, test_size=0.4, random_state=0)"
     ],
     "language": "python",
     "metadata": {},
     "outputs": []
    },
    {
     "cell_type": "code",
     "collapsed": false,
     "input": [
      "# Compute the global median.\n",
      "plays_array = []\n",
      "for user, user_data in train_data.iteritems():\n",
      "    for artist, plays in user_data.iteritems():\n",
      "        plays_array.append(plays)\n",
      "global_median = np.median(np.array(plays_array))\n",
      "print \"global median:\", global_median\n",
      "\n",
      "# Write out test solutions.\n",
      "with open(test_file, 'r') as test_fh:\n",
      "    test_csv = csv.reader(test_fh, delimiter=',', quotechar='\"')\n",
      "    next(test_csv, None)\n",
      "\n",
      "    with open(soln_file, 'w') as soln_fh:\n",
      "        soln_csv = csv.writer(soln_fh,\n",
      "                              delimiter=',',\n",
      "                              quotechar='\"',\n",
      "                              quoting=csv.QUOTE_MINIMAL)\n",
      "        soln_csv.writerow(['Id', 'plays'])\n",
      "\n",
      "        for row in test_csv:\n",
      "            id     = row[0]\n",
      "            user   = row[1]\n",
      "            artist = row[2]\n",
      "\n",
      "            soln_csv.writerow([id, global_median])"
     ],
     "language": "python",
     "metadata": {},
     "outputs": []
    }
   ],
   "metadata": {}
  }
 ]
}
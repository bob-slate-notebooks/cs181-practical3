{
 "metadata": {
  "name": "",
  "signature": "sha256:df47fea7d2a2de95cb4bfb9a22ad1271a3731bcf52d0350dbb4f87620556b2c3"
 },
 "nbformat": 3,
 "nbformat_minor": 0,
 "worksheets": [
  {
   "cells": [
    {
     "cell_type": "code",
     "collapsed": false,
     "input": [
      "import numpy as np\n",
      "import csv\n",
      "from sklearn import cross_validation\n",
      "from sklearn import decomposition\n",
      "\n",
      "# Predict via the median number of plays.\n",
      "\n",
      "train_file = 'train.csv'\n",
      "test_file  = 'test.csv'\n",
      "soln_file  = 'global_median.csv'"
     ],
     "language": "python",
     "metadata": {},
     "outputs": [],
     "prompt_number": 32
    },
    {
     "cell_type": "code",
     "collapsed": false,
     "input": [
      "# Load the training data.\n",
      "train_data = {}\n",
      "xc_train_data={}\n",
      "xc_test_data={}\n",
      "plays_list=[]\n",
      "with open(train_file, 'r') as train_fh:\n",
      "    train_csv = csv.reader(train_fh, delimiter=',', quotechar='\"')\n",
      "    next(train_csv, None)\n",
      "    counter=0\n",
      "    for row in train_csv:\n",
      "        user   = row[0]\n",
      "        artist = row[1]\n",
      "        plays  = int(row[2])\n",
      "    \n",
      "        if not user in train_data:\n",
      "            train_data[user] = {}\n",
      "        \n",
      "        if not user in xc_train_data:\n",
      "            xc_train_data[user] ={}\n",
      "        if not user in xc_test_data:\n",
      "            xc_test_data[user] ={}\n",
      "        \n",
      "        if counter < 116643:\n",
      "            xc_train_data[user][artist] = plays\n",
      "        else:\n",
      "            xc_test_data[user][artist] = plays\n",
      "        plays_list+=[plays]\n",
      "        counter+=1\n",
      "        \n",
      "        #train_data[user][artist] = plays"
     ],
     "language": "python",
     "metadata": {},
     "outputs": [],
     "prompt_number": 26
    },
    {
     "cell_type": "code",
     "collapsed": false,
     "input": [
      "users_list = xc_train_data.keys()\n",
      "users_np = np.array(users_list)\n",
      "artists_dict={}\n",
      "for user in users_list:\n",
      "    for artist in xc_train_data[user].keys():\n",
      "        if artist not in artists_dict:\n",
      "            artists_dict[artist]=1\n",
      "        else:\n",
      "            artists_dict[artist]+=1\n",
      "artists_list = np.array(artists_dict.keys())\n",
      "print users_np.shape\n",
      "num_users = users_np.shape[0]\n",
      "print artists_list.shape\n",
      "num_artists = artists_list.shape[0]"
     ],
     "language": "python",
     "metadata": {},
     "outputs": [
      {
       "output_type": "stream",
       "stream": "stdout",
       "text": [
        "(233286,)\n",
        "(2000,)\n"
       ]
      }
     ],
     "prompt_number": 29
    },
    {
     "cell_type": "code",
     "collapsed": false,
     "input": [
      "data = np.zeros([num_users, num_artists])\n",
      "for i in xrange(num_users):\n",
      "    for j in xrange(num_artists):\n",
      "        try:\n",
      "            data[i][j]= xc_train_data[users_np[i]][artists_list[j]]\n",
      "        except KeyError:\n",
      "            data[i][j]= 118.0"
     ],
     "language": "python",
     "metadata": {},
     "outputs": [],
     "prompt_number": 30
    },
    {
     "cell_type": "code",
     "collapsed": false,
     "input": [
      "test_components=1000\n",
      "model = decomposition.NMF(n_components=test_components, random_state=1)\n",
      "part_one = model.fit_transform(data)\n",
      "part_two=model.components_\n",
      "mult_result = np.dot(part_one, part_two)"
     ],
     "language": "python",
     "metadata": {},
     "outputs": []
    },
    {
     "cell_type": "code",
     "collapsed": false,
     "input": [
      "# Compute the global median.\n",
      "plays_array = []\n",
      "for user, user_data in train_data.iteritems():\n",
      "    for artist, plays in user_data.iteritems():\n",
      "        plays_array.append(plays)\n",
      "global_median = np.median(np.array(plays_array))\n",
      "print \"global median:\", global_median\n",
      "\n"
     ],
     "language": "python",
     "metadata": {},
     "outputs": []
    },
    {
     "cell_type": "code",
     "collapsed": false,
     "input": [
      "# Write out test solutions.\n",
      "with open(test_file, 'r') as test_fh:\n",
      "    test_csv = csv.reader(test_fh, delimiter=',', quotechar='\"')\n",
      "    next(test_csv, None)\n",
      "\n",
      "    with open(soln_file, 'w') as soln_fh:\n",
      "        soln_csv = csv.writer(soln_fh,\n",
      "                              delimiter=',',\n",
      "                              quotechar='\"',\n",
      "                              quoting=csv.QUOTE_MINIMAL)\n",
      "        soln_csv.writerow(['Id', 'plays'])\n",
      "\n",
      "        for row in test_csv:\n",
      "            id     = row[0]\n",
      "            user   = row[1]\n",
      "            artist = row[2]\n",
      "\n",
      "            soln_csv.writerow([id, global_median])"
     ],
     "language": "python",
     "metadata": {},
     "outputs": []
    }
   ],
   "metadata": {}
  }
 ]
}
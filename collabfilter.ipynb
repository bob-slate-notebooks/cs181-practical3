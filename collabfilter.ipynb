{
 "metadata": {
  "name": "",
  "signature": "sha256:0f13c3563e98f12342b3642d6508fdd5c718b71e30a33218707aa5430039d763"
 },
 "nbformat": 3,
 "nbformat_minor": 0,
 "worksheets": [
  {
   "cells": [
    {
     "cell_type": "code",
     "collapsed": false,
     "input": [
      "import numpy as np\n",
      "import csv\n",
      "import scipy.sparse as spr\n",
      "import graphlab as gl"
     ],
     "language": "python",
     "metadata": {},
     "outputs": [],
     "prompt_number": 1
    },
    {
     "cell_type": "code",
     "collapsed": false,
     "input": [
      "# Use collaborative filtering to make recommendations\n",
      "\n",
      "train_file = 'train.csv'\n",
      "test_file  = 'test.csv'\n",
      "soln_file  = 'item_sim_results.csv'"
     ],
     "language": "python",
     "metadata": {},
     "outputs": [],
     "prompt_number": 29
    },
    {
     "cell_type": "code",
     "collapsed": false,
     "input": [
      "data = gl.SFrame.read_csv(train_file, column_type_hints={\"plays\":int})\n",
      "model = gl.recommender.item_similarity_recommender.create(data, user_id=\"user\", item_id=\"artist\", target=\"plays\")"
     ],
     "language": "python",
     "metadata": {},
     "outputs": [
      {
       "html": [
        "<pre>PROGRESS: Read 635125 lines. Lines per second: 191760</pre>"
       ],
       "metadata": {},
       "output_type": "display_data",
       "text": [
        "PROGRESS: Read 635125 lines. Lines per second: 191760"
       ]
      },
      {
       "html": [
        "<pre>PROGRESS: Read 2540507 lines. Lines per second: 241453</pre>"
       ],
       "metadata": {},
       "output_type": "display_data",
       "text": [
        "PROGRESS: Read 2540507 lines. Lines per second: 241453"
       ]
      },
      {
       "html": [
        "<pre>PROGRESS: Finished parsing file /Users/knshen/Dropbox/0. HARVARD/2. Junior/1. SPRING/CS 181/cs181-practical3/train.csv</pre>"
       ],
       "metadata": {},
       "output_type": "display_data",
       "text": [
        "PROGRESS: Finished parsing file /Users/knshen/Dropbox/0. HARVARD/2. Junior/1. SPRING/CS 181/cs181-practical3/train.csv"
       ]
      },
      {
       "html": [
        "<pre>PROGRESS: Parsing completed. Parsed 4154804 lines in 15.012 secs.</pre>"
       ],
       "metadata": {},
       "output_type": "display_data",
       "text": [
        "PROGRESS: Parsing completed. Parsed 4154804 lines in 15.012 secs."
       ]
      },
      {
       "html": [
        "<pre>PROGRESS: Recsys training: model = item_similarity</pre>"
       ],
       "metadata": {},
       "output_type": "display_data",
       "text": [
        "PROGRESS: Recsys training: model = item_similarity"
       ]
      },
      {
       "html": [
        "<pre>PROGRESS: Preparing data set.</pre>"
       ],
       "metadata": {},
       "output_type": "display_data",
       "text": [
        "PROGRESS: Preparing data set."
       ]
      },
      {
       "html": [
        "<pre>PROGRESS:     Data has 4154804 observations with 233286 users and 2000 items.</pre>"
       ],
       "metadata": {},
       "output_type": "display_data",
       "text": [
        "PROGRESS:     Data has 4154804 observations with 233286 users and 2000 items."
       ]
      },
      {
       "html": [
        "<pre>PROGRESS:     Data prepared in: 9.72353s</pre>"
       ],
       "metadata": {},
       "output_type": "display_data",
       "text": [
        "PROGRESS:     Data prepared in: 9.72353s"
       ]
      },
      {
       "html": [
        "<pre>PROGRESS: Computing item similarity statistics:</pre>"
       ],
       "metadata": {},
       "output_type": "display_data",
       "text": [
        "PROGRESS: Computing item similarity statistics:"
       ]
      },
      {
       "html": [
        "<pre>PROGRESS: +-----------------+-----------------+</pre>"
       ],
       "metadata": {},
       "output_type": "display_data",
       "text": [
        "PROGRESS: +-----------------+-----------------+"
       ]
      },
      {
       "html": [
        "<pre>PROGRESS: | Number of users | Elapsed Time    |</pre>"
       ],
       "metadata": {},
       "output_type": "display_data",
       "text": [
        "PROGRESS: | Number of users | Elapsed Time    |"
       ]
      },
      {
       "html": [
        "<pre>PROGRESS: +-----------------+-----------------+</pre>"
       ],
       "metadata": {},
       "output_type": "display_data",
       "text": [
        "PROGRESS: +-----------------+-----------------+"
       ]
      },
      {
       "html": [
        "<pre>PROGRESS: | 100000          | 0.296177        |</pre>"
       ],
       "metadata": {},
       "output_type": "display_data",
       "text": [
        "PROGRESS: | 100000          | 0.296177        |"
       ]
      },
      {
       "html": [
        "<pre>PROGRESS: | 200000          | 0.559941        |</pre>"
       ],
       "metadata": {},
       "output_type": "display_data",
       "text": [
        "PROGRESS: | 200000          | 0.559941        |"
       ]
      },
      {
       "html": [
        "<pre>PROGRESS: +-----------------+-----------------+</pre>"
       ],
       "metadata": {},
       "output_type": "display_data",
       "text": [
        "PROGRESS: +-----------------+-----------------+"
       ]
      },
      {
       "html": [
        "<pre>PROGRESS: Computing most similar items for 2000 items:</pre>"
       ],
       "metadata": {},
       "output_type": "display_data",
       "text": [
        "PROGRESS: Computing most similar items for 2000 items:"
       ]
      },
      {
       "html": [
        "<pre>PROGRESS: +-----------------+-----------------+</pre>"
       ],
       "metadata": {},
       "output_type": "display_data",
       "text": [
        "PROGRESS: +-----------------+-----------------+"
       ]
      },
      {
       "html": [
        "<pre>PROGRESS: | Number of items | Elapsed Time    |</pre>"
       ],
       "metadata": {},
       "output_type": "display_data",
       "text": [
        "PROGRESS: | Number of items | Elapsed Time    |"
       ]
      },
      {
       "html": [
        "<pre>PROGRESS: +-----------------+-----------------+</pre>"
       ],
       "metadata": {},
       "output_type": "display_data",
       "text": [
        "PROGRESS: +-----------------+-----------------+"
       ]
      },
      {
       "html": [
        "<pre>PROGRESS: | 1000            | 0.771376        |</pre>"
       ],
       "metadata": {},
       "output_type": "display_data",
       "text": [
        "PROGRESS: | 1000            | 0.771376        |"
       ]
      },
      {
       "html": [
        "<pre>PROGRESS: | 2000            | 0.822303        |</pre>"
       ],
       "metadata": {},
       "output_type": "display_data",
       "text": [
        "PROGRESS: | 2000            | 0.822303        |"
       ]
      },
      {
       "html": [
        "<pre>PROGRESS: +-----------------+-----------------+</pre>"
       ],
       "metadata": {},
       "output_type": "display_data",
       "text": [
        "PROGRESS: +-----------------+-----------------+"
       ]
      },
      {
       "html": [
        "<pre>PROGRESS: Finished training in 1.33601s</pre>"
       ],
       "metadata": {},
       "output_type": "display_data",
       "text": [
        "PROGRESS: Finished training in 1.33601s"
       ]
      },
      {
       "html": [
        "<pre>PROGRESS: Finished prediction in 3.51732s</pre>"
       ],
       "metadata": {},
       "output_type": "display_data",
       "text": [
        "PROGRESS: Finished prediction in 3.51732s"
       ]
      }
     ],
     "prompt_number": 12
    },
    {
     "cell_type": "code",
     "collapsed": false,
     "input": [
      "result = model.predict(gl.SFrame(test_file))"
     ],
     "language": "python",
     "metadata": {},
     "outputs": [
      {
       "html": [
        "<pre>PROGRESS: Finished parsing file /Users/knshen/Dropbox/0. HARVARD/2. Junior/1. SPRING/CS 181/cs181-practical3/test.csv</pre>"
       ],
       "metadata": {},
       "output_type": "display_data",
       "text": [
        "PROGRESS: Finished parsing file /Users/knshen/Dropbox/0. HARVARD/2. Junior/1. SPRING/CS 181/cs181-practical3/test.csv"
       ]
      },
      {
       "html": [
        "<pre>PROGRESS: Parsing completed. Parsed 100 lines in 3.81321 secs.</pre>"
       ],
       "metadata": {},
       "output_type": "display_data",
       "text": [
        "PROGRESS: Parsing completed. Parsed 100 lines in 3.81321 secs."
       ]
      },
      {
       "html": [
        "<pre>PROGRESS: Read 610929 lines. Lines per second: 238351</pre>"
       ],
       "metadata": {},
       "output_type": "display_data",
       "text": [
        "PROGRESS: Read 610929 lines. Lines per second: 238351"
       ]
      },
      {
       "html": [
        "<pre>PROGRESS: Read 2423290 lines. Lines per second: 247069</pre>"
       ],
       "metadata": {},
       "output_type": "display_data",
       "text": [
        "PROGRESS: Read 2423290 lines. Lines per second: 247069"
       ]
      },
      {
       "html": [
        "<pre>PROGRESS: Finished parsing file /Users/knshen/Dropbox/0. HARVARD/2. Junior/1. SPRING/CS 181/cs181-practical3/test.csv</pre>"
       ],
       "metadata": {},
       "output_type": "display_data",
       "text": [
        "PROGRESS: Finished parsing file /Users/knshen/Dropbox/0. HARVARD/2. Junior/1. SPRING/CS 181/cs181-practical3/test.csv"
       ]
      },
      {
       "html": [
        "<pre>PROGRESS: Parsing completed. Parsed 4154804 lines in 15.2032 secs.</pre>"
       ],
       "metadata": {},
       "output_type": "display_data",
       "text": [
        "PROGRESS: Parsing completed. Parsed 4154804 lines in 15.2032 secs."
       ]
      },
      {
       "html": [
        "<pre>PROGRESS: Finished prediction in 4.24052s</pre>"
       ],
       "metadata": {},
       "output_type": "display_data",
       "text": [
        "PROGRESS: Finished prediction in 4.24052s"
       ]
      },
      {
       "output_type": "stream",
       "stream": "stdout",
       "text": [
        "------------------------------------------------------\n",
        "Inferred types from first line of file as \n",
        "column_type_hints=[int,str,str]\n",
        "If parsing fails due to incorrect types, you can correct\n",
        "the inferred type list above and pass it to read_csv in\n",
        "the column_type_hints argument\n",
        "------------------------------------------------------\n"
       ]
      }
     ],
     "prompt_number": 14
    },
    {
     "cell_type": "code",
     "collapsed": false,
     "input": [
      "# Scale the results to be on the same scale as the original ratings\n",
      "scaled_result = (result - result.min())/(result.max() - result.min()) * data['plays'].max()"
     ],
     "language": "python",
     "metadata": {},
     "outputs": [
      {
       "output_type": "stream",
       "stream": "stdout",
       "text": [
        "[220.9944210027759, 460.6201037338503, 580.8428810469281, 590.9850485115545, 260.21286303547777, 503.0506390702628, 1541.2056174964175, 153.86734862524764, 1882.7193510352993, 423.23647368809486, 19.45052247111007, 1801.8503012025722, 35.61522647416778, 295.30866986036443, 962.4132455233395, 308.71629262180045, 178.10515514963885, 1532.7518799188824, 507.5868327376213, 481.28853593021233, 211.36988677021077, 161.84799570472418, 226.1020990003774, 4798.396311499376, 737.455198382227, 710.8622290677372, 1044.1211612397994, 33.80436224026428, 122.88547570422612, 744.5437914701184, 716.2855142804226, 50.30772531877387, 333.0217957176161, 3883.535983663311, 197.54044009521564, 413.20330411979035, 29.83582874238774, 143.9430903202402, 708.5061797493977, 582.6739582522437, 79.86655826336916, 145.67441877143557, 722.0161010148394, 406.3170955140599, 248.01567263520394, 1410.8055410091474, 845.4726619913107, 520.5812674739185, 494.7977905803392, 588.0124288349315, 694.2367129492261, 36.91479489346888, 855.0885992249162, 2637.9810512713407, 195.68657497805907, 452.636941718929, 296.5292292584532, 180.61626826094698, 391.15090075751004, 165.2550359359092, 64.72916906775677, 1214.647209401068, 230.33177529132544, 1247.0594933013856, 326.46213328866685, 2395.7972092077916, 40.535326745956574, 1409.7900957986042, 41.05878823076857, 683.5040676781965, 263.6503003388147, 246.56533029590148, 1247.1356630045693, 1768.3869447509676, 69.77474218535254, 464.42954678160584, 218.8930864315522, 939.6195913160581, 1497.1365527518622, 412.9804346691237, 133.34388976297598, 13.594572755793035, 438.49951900248044, 255.127933381918, 812.6202957085251, 90.89713748735001, 511.08820577515195, 433.7651378433831, 37.713152960086404, 43.201292350440134, 224.69048624435723, 396.2182916115257, 692.7963793791668, 32.622977942630506, 820.6313361481482, 253.0157594616237, 622.9235575211904, 498.7867312190254, 1107.5944397473736, 203.0468785145502, ... ]\n"
       ]
      }
     ],
     "prompt_number": 22
    },
    {
     "cell_type": "code",
     "collapsed": false,
     "input": [
      "scaled_result"
     ],
     "language": "python",
     "metadata": {},
     "outputs": [
      {
       "metadata": {},
       "output_type": "pyout",
       "prompt_number": 28,
       "text": [
        "dtype: float\n",
        "Rows: 4154804\n",
        "[220.9944210027759, 460.6201037338503, 580.8428810469281, 590.9850485115545, 260.21286303547777, 503.0506390702628, 1541.2056174964175, 153.86734862524764, 1882.7193510352993, 423.23647368809486, 19.45052247111007, 1801.8503012025722, 35.61522647416778, 295.30866986036443, 962.4132455233395, 308.71629262180045, 178.10515514963885, 1532.7518799188824, 507.5868327376213, 481.28853593021233, 211.36988677021077, 161.84799570472418, 226.1020990003774, 4798.396311499376, 737.455198382227, 710.8622290677372, 1044.1211612397994, 33.80436224026428, 122.88547570422612, 744.5437914701184, 716.2855142804226, 50.30772531877387, 333.0217957176161, 3883.535983663311, 197.54044009521564, 413.20330411979035, 29.83582874238774, 143.9430903202402, 708.5061797493977, 582.6739582522437, 79.86655826336916, 145.67441877143557, 722.0161010148394, 406.3170955140599, 248.01567263520394, 1410.8055410091474, 845.4726619913107, 520.5812674739185, 494.7977905803392, 588.0124288349315, 694.2367129492261, 36.91479489346888, 855.0885992249162, 2637.9810512713407, 195.68657497805907, 452.636941718929, 296.5292292584532, 180.61626826094698, 391.15090075751004, 165.2550359359092, 64.72916906775677, 1214.647209401068, 230.33177529132544, 1247.0594933013856, 326.46213328866685, 2395.7972092077916, 40.535326745956574, 1409.7900957986042, 41.05878823076857, 683.5040676781965, 263.6503003388147, 246.56533029590148, 1247.1356630045693, 1768.3869447509676, 69.77474218535254, 464.42954678160584, 218.8930864315522, 939.6195913160581, 1497.1365527518622, 412.9804346691237, 133.34388976297598, 13.594572755793035, 438.49951900248044, 255.127933381918, 812.6202957085251, 90.89713748735001, 511.08820577515195, 433.7651378433831, 37.713152960086404, 43.201292350440134, 224.69048624435723, 396.2182916115257, 692.7963793791668, 32.622977942630506, 820.6313361481482, 253.0157594616237, 622.9235575211904, 498.7867312190254, 1107.5944397473736, 203.0468785145502, ... ]"
       ]
      }
     ],
     "prompt_number": 28
    },
    {
     "cell_type": "code",
     "collapsed": false,
     "input": [
      "# Write out test solutions.\n",
      "# with open(test_file, 'r') as test_fh:\n",
      "#     test_csv = csv.reader(test_fh, delimiter=',', quotechar='\"')\n",
      "#     next(test_csv, None)\n",
      "\n",
      "with open(soln_file, 'w') as soln_fh:\n",
      "    soln_csv = csv.writer(soln_fh,\n",
      "                          delimiter=',',\n",
      "                          quotechar='\"',\n",
      "                          quoting=csv.QUOTE_MINIMAL)\n",
      "    soln_csv.writerow(['Id', 'plays'])\n",
      "\n",
      "    for i in range(4154804):\n",
      "        soln_csv.writerow([i + 1, scaled_result[i]])"
     ],
     "language": "python",
     "metadata": {},
     "outputs": [],
     "prompt_number": 34
    },
    {
     "cell_type": "code",
     "collapsed": false,
     "input": [],
     "language": "python",
     "metadata": {},
     "outputs": []
    }
   ],
   "metadata": {}
  }
 ]
}